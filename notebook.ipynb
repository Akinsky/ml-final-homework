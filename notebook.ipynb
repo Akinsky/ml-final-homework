{
 "cells": [
  {
   "cell_type": "markdown",
   "metadata": {
    "collapsed": true,
    "pycharm": {
     "name": "#%% md\n"
    }
   },
   "source": [
    "## Imports"
   ]
  },
  {
   "cell_type": "code",
   "execution_count": 38,
   "outputs": [],
   "source": [
    "import pandas as pd\n",
    "import numpy as np"
   ],
   "metadata": {
    "collapsed": false,
    "pycharm": {
     "name": "#%%\n"
    }
   }
  },
  {
   "cell_type": "code",
   "execution_count": 46,
   "outputs": [],
   "source": [
    "data = pd.read_csv('./dataset/music_genre.csv')"
   ],
   "metadata": {
    "collapsed": false,
    "pycharm": {
     "name": "#%%\n"
    }
   }
  },
  {
   "cell_type": "markdown",
   "source": [
    "## Data Exploration"
   ],
   "metadata": {
    "collapsed": false,
    "pycharm": {
     "name": "#%% md\n"
    }
   }
  },
  {
   "cell_type": "code",
   "execution_count": 3,
   "outputs": [
    {
     "name": "stdout",
     "output_type": "stream",
     "text": [
      "<class 'pandas.core.frame.DataFrame'>\n",
      "RangeIndex: 50005 entries, 0 to 50004\n",
      "Data columns (total 18 columns):\n",
      " #   Column            Non-Null Count  Dtype  \n",
      "---  ------            --------------  -----  \n",
      " 0   instance_id       50000 non-null  float64\n",
      " 1   artist_name       50000 non-null  object \n",
      " 2   track_name        50000 non-null  object \n",
      " 3   popularity        50000 non-null  float64\n",
      " 4   acousticness      50000 non-null  float64\n",
      " 5   danceability      50000 non-null  float64\n",
      " 6   duration_ms       50000 non-null  float64\n",
      " 7   energy            50000 non-null  float64\n",
      " 8   instrumentalness  50000 non-null  float64\n",
      " 9   key               50000 non-null  object \n",
      " 10  liveness          50000 non-null  float64\n",
      " 11  loudness          50000 non-null  float64\n",
      " 12  mode              50000 non-null  object \n",
      " 13  speechiness       50000 non-null  float64\n",
      " 14  tempo             50000 non-null  object \n",
      " 15  obtained_date     50000 non-null  object \n",
      " 16  valence           50000 non-null  float64\n",
      " 17  music_genre       50000 non-null  object \n",
      "dtypes: float64(11), object(7)\n",
      "memory usage: 6.9+ MB\n"
     ]
    }
   ],
   "source": [
    "data.info()"
   ],
   "metadata": {
    "collapsed": false,
    "pycharm": {
     "name": "#%%\n"
    }
   }
  },
  {
   "cell_type": "code",
   "execution_count": 4,
   "outputs": [
    {
     "data": {
      "text/plain": "        instance_id    popularity  acousticness  danceability   duration_ms  \\\ncount  50000.000000  50000.000000  50000.000000  50000.000000  5.000000e+04   \nmean   55888.396360     44.220420      0.306383      0.558241  2.212526e+05   \nstd    20725.256253     15.542008      0.341340      0.178632  1.286720e+05   \nmin    20002.000000      0.000000      0.000000      0.059600 -1.000000e+00   \n25%    37973.500000     34.000000      0.020000      0.442000  1.748000e+05   \n50%    55913.500000     45.000000      0.144000      0.568000  2.192810e+05   \n75%    73863.250000     56.000000      0.552000      0.687000  2.686122e+05   \nmax    91759.000000     99.000000      0.996000      0.986000  4.830606e+06   \n\n             energy  instrumentalness      liveness      loudness  \\\ncount  50000.000000      50000.000000  50000.000000  50000.000000   \nmean       0.599755          0.181601      0.193896     -9.133761   \nstd        0.264559          0.325409      0.161637      6.162990   \nmin        0.000792          0.000000      0.009670    -47.046000   \n25%        0.433000          0.000000      0.096900    -10.860000   \n50%        0.643000          0.000158      0.126000     -7.276500   \n75%        0.815000          0.155000      0.244000     -5.173000   \nmax        0.999000          0.996000      1.000000      3.744000   \n\n        speechiness       valence  \ncount  50000.000000  50000.000000  \nmean       0.093586      0.456264  \nstd        0.101373      0.247119  \nmin        0.022300      0.000000  \n25%        0.036100      0.257000  \n50%        0.048900      0.448000  \n75%        0.098525      0.648000  \nmax        0.942000      0.992000  ",
      "text/html": "<div>\n<style scoped>\n    .dataframe tbody tr th:only-of-type {\n        vertical-align: middle;\n    }\n\n    .dataframe tbody tr th {\n        vertical-align: top;\n    }\n\n    .dataframe thead th {\n        text-align: right;\n    }\n</style>\n<table border=\"1\" class=\"dataframe\">\n  <thead>\n    <tr style=\"text-align: right;\">\n      <th></th>\n      <th>instance_id</th>\n      <th>popularity</th>\n      <th>acousticness</th>\n      <th>danceability</th>\n      <th>duration_ms</th>\n      <th>energy</th>\n      <th>instrumentalness</th>\n      <th>liveness</th>\n      <th>loudness</th>\n      <th>speechiness</th>\n      <th>valence</th>\n    </tr>\n  </thead>\n  <tbody>\n    <tr>\n      <th>count</th>\n      <td>50000.000000</td>\n      <td>50000.000000</td>\n      <td>50000.000000</td>\n      <td>50000.000000</td>\n      <td>5.000000e+04</td>\n      <td>50000.000000</td>\n      <td>50000.000000</td>\n      <td>50000.000000</td>\n      <td>50000.000000</td>\n      <td>50000.000000</td>\n      <td>50000.000000</td>\n    </tr>\n    <tr>\n      <th>mean</th>\n      <td>55888.396360</td>\n      <td>44.220420</td>\n      <td>0.306383</td>\n      <td>0.558241</td>\n      <td>2.212526e+05</td>\n      <td>0.599755</td>\n      <td>0.181601</td>\n      <td>0.193896</td>\n      <td>-9.133761</td>\n      <td>0.093586</td>\n      <td>0.456264</td>\n    </tr>\n    <tr>\n      <th>std</th>\n      <td>20725.256253</td>\n      <td>15.542008</td>\n      <td>0.341340</td>\n      <td>0.178632</td>\n      <td>1.286720e+05</td>\n      <td>0.264559</td>\n      <td>0.325409</td>\n      <td>0.161637</td>\n      <td>6.162990</td>\n      <td>0.101373</td>\n      <td>0.247119</td>\n    </tr>\n    <tr>\n      <th>min</th>\n      <td>20002.000000</td>\n      <td>0.000000</td>\n      <td>0.000000</td>\n      <td>0.059600</td>\n      <td>-1.000000e+00</td>\n      <td>0.000792</td>\n      <td>0.000000</td>\n      <td>0.009670</td>\n      <td>-47.046000</td>\n      <td>0.022300</td>\n      <td>0.000000</td>\n    </tr>\n    <tr>\n      <th>25%</th>\n      <td>37973.500000</td>\n      <td>34.000000</td>\n      <td>0.020000</td>\n      <td>0.442000</td>\n      <td>1.748000e+05</td>\n      <td>0.433000</td>\n      <td>0.000000</td>\n      <td>0.096900</td>\n      <td>-10.860000</td>\n      <td>0.036100</td>\n      <td>0.257000</td>\n    </tr>\n    <tr>\n      <th>50%</th>\n      <td>55913.500000</td>\n      <td>45.000000</td>\n      <td>0.144000</td>\n      <td>0.568000</td>\n      <td>2.192810e+05</td>\n      <td>0.643000</td>\n      <td>0.000158</td>\n      <td>0.126000</td>\n      <td>-7.276500</td>\n      <td>0.048900</td>\n      <td>0.448000</td>\n    </tr>\n    <tr>\n      <th>75%</th>\n      <td>73863.250000</td>\n      <td>56.000000</td>\n      <td>0.552000</td>\n      <td>0.687000</td>\n      <td>2.686122e+05</td>\n      <td>0.815000</td>\n      <td>0.155000</td>\n      <td>0.244000</td>\n      <td>-5.173000</td>\n      <td>0.098525</td>\n      <td>0.648000</td>\n    </tr>\n    <tr>\n      <th>max</th>\n      <td>91759.000000</td>\n      <td>99.000000</td>\n      <td>0.996000</td>\n      <td>0.986000</td>\n      <td>4.830606e+06</td>\n      <td>0.999000</td>\n      <td>0.996000</td>\n      <td>1.000000</td>\n      <td>3.744000</td>\n      <td>0.942000</td>\n      <td>0.992000</td>\n    </tr>\n  </tbody>\n</table>\n</div>"
     },
     "execution_count": 4,
     "metadata": {},
     "output_type": "execute_result"
    }
   ],
   "source": [
    "data.describe()"
   ],
   "metadata": {
    "collapsed": false,
    "pycharm": {
     "name": "#%%\n"
    }
   }
  },
  {
   "cell_type": "code",
   "execution_count": 5,
   "outputs": [
    {
     "data": {
      "text/plain": "   instance_id           artist_name            track_name  popularity  \\\n0      32894.0              Röyksopp  Röyksopp's Night Out        27.0   \n1      46652.0  Thievery Corporation      The Shining Path        31.0   \n2      30097.0        Dillon Francis             Hurricane        28.0   \n3      62177.0              Dubloadz                 Nitro        34.0   \n4      24907.0           What So Not      Divide & Conquer        32.0   \n\n   acousticness  danceability  duration_ms  energy  instrumentalness key  \\\n0       0.00468         0.652         -1.0   0.941           0.79200  A#   \n1       0.01270         0.622     218293.0   0.890           0.95000   D   \n2       0.00306         0.620     215613.0   0.755           0.01180  G#   \n3       0.02540         0.774     166875.0   0.700           0.00253  C#   \n4       0.00465         0.638     222369.0   0.587           0.90900  F#   \n\n   liveness  loudness   mode  speechiness               tempo obtained_date  \\\n0     0.115    -5.201  Minor       0.0748             100.889         4-Apr   \n1     0.124    -7.043  Minor       0.0300  115.00200000000001         4-Apr   \n2     0.534    -4.617  Major       0.0345             127.994         4-Apr   \n3     0.157    -4.498  Major       0.2390             128.014         4-Apr   \n4     0.157    -6.266  Major       0.0413             145.036         4-Apr   \n\n   valence music_genre  \n0    0.759  Electronic  \n1    0.531  Electronic  \n2    0.333  Electronic  \n3    0.270  Electronic  \n4    0.323  Electronic  ",
      "text/html": "<div>\n<style scoped>\n    .dataframe tbody tr th:only-of-type {\n        vertical-align: middle;\n    }\n\n    .dataframe tbody tr th {\n        vertical-align: top;\n    }\n\n    .dataframe thead th {\n        text-align: right;\n    }\n</style>\n<table border=\"1\" class=\"dataframe\">\n  <thead>\n    <tr style=\"text-align: right;\">\n      <th></th>\n      <th>instance_id</th>\n      <th>artist_name</th>\n      <th>track_name</th>\n      <th>popularity</th>\n      <th>acousticness</th>\n      <th>danceability</th>\n      <th>duration_ms</th>\n      <th>energy</th>\n      <th>instrumentalness</th>\n      <th>key</th>\n      <th>liveness</th>\n      <th>loudness</th>\n      <th>mode</th>\n      <th>speechiness</th>\n      <th>tempo</th>\n      <th>obtained_date</th>\n      <th>valence</th>\n      <th>music_genre</th>\n    </tr>\n  </thead>\n  <tbody>\n    <tr>\n      <th>0</th>\n      <td>32894.0</td>\n      <td>Röyksopp</td>\n      <td>Röyksopp's Night Out</td>\n      <td>27.0</td>\n      <td>0.00468</td>\n      <td>0.652</td>\n      <td>-1.0</td>\n      <td>0.941</td>\n      <td>0.79200</td>\n      <td>A#</td>\n      <td>0.115</td>\n      <td>-5.201</td>\n      <td>Minor</td>\n      <td>0.0748</td>\n      <td>100.889</td>\n      <td>4-Apr</td>\n      <td>0.759</td>\n      <td>Electronic</td>\n    </tr>\n    <tr>\n      <th>1</th>\n      <td>46652.0</td>\n      <td>Thievery Corporation</td>\n      <td>The Shining Path</td>\n      <td>31.0</td>\n      <td>0.01270</td>\n      <td>0.622</td>\n      <td>218293.0</td>\n      <td>0.890</td>\n      <td>0.95000</td>\n      <td>D</td>\n      <td>0.124</td>\n      <td>-7.043</td>\n      <td>Minor</td>\n      <td>0.0300</td>\n      <td>115.00200000000001</td>\n      <td>4-Apr</td>\n      <td>0.531</td>\n      <td>Electronic</td>\n    </tr>\n    <tr>\n      <th>2</th>\n      <td>30097.0</td>\n      <td>Dillon Francis</td>\n      <td>Hurricane</td>\n      <td>28.0</td>\n      <td>0.00306</td>\n      <td>0.620</td>\n      <td>215613.0</td>\n      <td>0.755</td>\n      <td>0.01180</td>\n      <td>G#</td>\n      <td>0.534</td>\n      <td>-4.617</td>\n      <td>Major</td>\n      <td>0.0345</td>\n      <td>127.994</td>\n      <td>4-Apr</td>\n      <td>0.333</td>\n      <td>Electronic</td>\n    </tr>\n    <tr>\n      <th>3</th>\n      <td>62177.0</td>\n      <td>Dubloadz</td>\n      <td>Nitro</td>\n      <td>34.0</td>\n      <td>0.02540</td>\n      <td>0.774</td>\n      <td>166875.0</td>\n      <td>0.700</td>\n      <td>0.00253</td>\n      <td>C#</td>\n      <td>0.157</td>\n      <td>-4.498</td>\n      <td>Major</td>\n      <td>0.2390</td>\n      <td>128.014</td>\n      <td>4-Apr</td>\n      <td>0.270</td>\n      <td>Electronic</td>\n    </tr>\n    <tr>\n      <th>4</th>\n      <td>24907.0</td>\n      <td>What So Not</td>\n      <td>Divide &amp; Conquer</td>\n      <td>32.0</td>\n      <td>0.00465</td>\n      <td>0.638</td>\n      <td>222369.0</td>\n      <td>0.587</td>\n      <td>0.90900</td>\n      <td>F#</td>\n      <td>0.157</td>\n      <td>-6.266</td>\n      <td>Major</td>\n      <td>0.0413</td>\n      <td>145.036</td>\n      <td>4-Apr</td>\n      <td>0.323</td>\n      <td>Electronic</td>\n    </tr>\n  </tbody>\n</table>\n</div>"
     },
     "execution_count": 5,
     "metadata": {},
     "output_type": "execute_result"
    }
   ],
   "source": [
    "data.head()"
   ],
   "metadata": {
    "collapsed": false,
    "pycharm": {
     "name": "#%%\n"
    }
   }
  },
  {
   "cell_type": "code",
   "execution_count": 6,
   "outputs": [
    {
     "data": {
      "text/plain": "count           50000\nunique           6863\ntop       empty_field\nfreq             2489\nName: artist_name, dtype: object"
     },
     "execution_count": 6,
     "metadata": {},
     "output_type": "execute_result"
    }
   ],
   "source": [
    "data['artist_name'].describe()"
   ],
   "metadata": {
    "collapsed": false,
    "pycharm": {
     "name": "#%%\n"
    }
   }
  },
  {
   "cell_type": "code",
   "execution_count": 7,
   "outputs": [
    {
     "data": {
      "text/plain": "count     50000\nunique    41699\ntop        Home\nfreq         16\nName: track_name, dtype: object"
     },
     "execution_count": 7,
     "metadata": {},
     "output_type": "execute_result"
    }
   ],
   "source": [
    "data['track_name'].describe()"
   ],
   "metadata": {
    "collapsed": false,
    "pycharm": {
     "name": "#%%\n"
    }
   }
  },
  {
   "cell_type": "code",
   "execution_count": 65,
   "outputs": [
    {
     "data": {
      "text/plain": "count     50000\nunique        5\ntop       4-Apr\nfreq      44748\nName: obtained_date, dtype: object"
     },
     "execution_count": 65,
     "metadata": {},
     "output_type": "execute_result"
    }
   ],
   "source": [
    "data['obtained_date'].describe()"
   ],
   "metadata": {
    "collapsed": false,
    "pycharm": {
     "name": "#%%\n"
    }
   }
  },
  {
   "cell_type": "code",
   "execution_count": 66,
   "outputs": [
    {
     "data": {
      "text/plain": "array(['4-Apr', '3-Apr', '5-Apr', '1-Apr', nan, '0/4'], dtype=object)"
     },
     "execution_count": 66,
     "metadata": {},
     "output_type": "execute_result"
    }
   ],
   "source": [
    "data['obtained_date'].unique()"
   ],
   "metadata": {
    "collapsed": false,
    "pycharm": {
     "name": "#%%\n"
    }
   }
  },
  {
   "cell_type": "code",
   "execution_count": 8,
   "outputs": [
    {
     "data": {
      "text/plain": "count    50000.000000\nmean        44.220420\nstd         15.542008\nmin          0.000000\n25%         34.000000\n50%         45.000000\n75%         56.000000\nmax         99.000000\nName: popularity, dtype: float64"
     },
     "execution_count": 8,
     "metadata": {},
     "output_type": "execute_result"
    }
   ],
   "source": [
    "data['popularity'].describe()"
   ],
   "metadata": {
    "collapsed": false,
    "pycharm": {
     "name": "#%%\n"
    }
   }
  },
  {
   "cell_type": "code",
   "execution_count": 9,
   "outputs": [
    {
     "data": {
      "text/plain": "count    50000.000000\nmean         0.306383\nstd          0.341340\nmin          0.000000\n25%          0.020000\n50%          0.144000\n75%          0.552000\nmax          0.996000\nName: acousticness, dtype: float64"
     },
     "execution_count": 9,
     "metadata": {},
     "output_type": "execute_result"
    }
   ],
   "source": [
    "data['acousticness'].describe()"
   ],
   "metadata": {
    "collapsed": false,
    "pycharm": {
     "name": "#%%\n"
    }
   }
  },
  {
   "cell_type": "code",
   "execution_count": 10,
   "outputs": [
    {
     "data": {
      "text/plain": "count    50000.000000\nmean         0.558241\nstd          0.178632\nmin          0.059600\n25%          0.442000\n50%          0.568000\n75%          0.687000\nmax          0.986000\nName: danceability, dtype: float64"
     },
     "execution_count": 10,
     "metadata": {},
     "output_type": "execute_result"
    }
   ],
   "source": [
    "data['danceability'].describe()"
   ],
   "metadata": {
    "collapsed": false,
    "pycharm": {
     "name": "#%%\n"
    }
   }
  },
  {
   "cell_type": "code",
   "execution_count": 11,
   "outputs": [
    {
     "data": {
      "text/plain": "count    5.000000e+04\nmean     2.212526e+05\nstd      1.286720e+05\nmin     -1.000000e+00\n25%      1.748000e+05\n50%      2.192810e+05\n75%      2.686122e+05\nmax      4.830606e+06\nName: duration_ms, dtype: float64"
     },
     "execution_count": 11,
     "metadata": {},
     "output_type": "execute_result"
    }
   ],
   "source": [
    "data['duration_ms'].describe()"
   ],
   "metadata": {
    "collapsed": false,
    "pycharm": {
     "name": "#%%\n"
    }
   }
  },
  {
   "cell_type": "code",
   "execution_count": 12,
   "outputs": [
    {
     "data": {
      "text/plain": "(4939, 18)"
     },
     "execution_count": 12,
     "metadata": {},
     "output_type": "execute_result"
    }
   ],
   "source": [
    "data[data['duration_ms'] == -1].shape"
   ],
   "metadata": {
    "collapsed": false,
    "pycharm": {
     "name": "#%%\n"
    }
   }
  },
  {
   "cell_type": "code",
   "execution_count": 13,
   "outputs": [
    {
     "data": {
      "text/plain": "count    50000.000000\nmean         0.599755\nstd          0.264559\nmin          0.000792\n25%          0.433000\n50%          0.643000\n75%          0.815000\nmax          0.999000\nName: energy, dtype: float64"
     },
     "execution_count": 13,
     "metadata": {},
     "output_type": "execute_result"
    }
   ],
   "source": [
    "data['energy'].describe()"
   ],
   "metadata": {
    "collapsed": false,
    "pycharm": {
     "name": "#%%\n"
    }
   }
  },
  {
   "cell_type": "code",
   "execution_count": 18,
   "outputs": [
    {
     "data": {
      "text/plain": "count    50000.000000\nmean         0.181601\nstd          0.325409\nmin          0.000000\n25%          0.000000\n50%          0.000158\n75%          0.155000\nmax          0.996000\nName: instrumentalness, dtype: float64"
     },
     "execution_count": 18,
     "metadata": {},
     "output_type": "execute_result"
    }
   ],
   "source": [
    "data['instrumentalness'].describe()"
   ],
   "metadata": {
    "collapsed": false,
    "pycharm": {
     "name": "#%%\n"
    }
   }
  },
  {
   "cell_type": "code",
   "execution_count": 40,
   "outputs": [
    {
     "data": {
      "text/plain": "(15001, 18)"
     },
     "execution_count": 40,
     "metadata": {},
     "output_type": "execute_result"
    }
   ],
   "source": [
    "data[data['instrumentalness'] == 0].shape"
   ],
   "metadata": {
    "collapsed": false,
    "pycharm": {
     "name": "#%%\n"
    }
   }
  },
  {
   "cell_type": "code",
   "execution_count": 41,
   "outputs": [],
   "source": [
    "data['instrumentalness'].replace(0, np.nan, inplace=True)\n",
    "data['instrumentalness'].fillna((data['instrumentalness'].median()), inplace=True)"
   ],
   "metadata": {
    "collapsed": false,
    "pycharm": {
     "name": "#%%\n"
    }
   }
  },
  {
   "cell_type": "code",
   "execution_count": 42,
   "outputs": [
    {
     "data": {
      "text/plain": "(0, 18)"
     },
     "execution_count": 42,
     "metadata": {},
     "output_type": "execute_result"
    }
   ],
   "source": [
    "data[data['instrumentalness'] == 0].shape"
   ],
   "metadata": {
    "collapsed": false,
    "pycharm": {
     "name": "#%%\n"
    }
   }
  },
  {
   "cell_type": "code",
   "execution_count": 57,
   "outputs": [
    {
     "data": {
      "text/plain": "count    50000.000000\nmean         0.456264\nstd          0.247119\nmin          0.000000\n25%          0.257000\n50%          0.448000\n75%          0.648000\nmax          0.992000\nName: valence, dtype: float64"
     },
     "execution_count": 57,
     "metadata": {},
     "output_type": "execute_result"
    }
   ],
   "source": [
    "data['valence'].describe()"
   ],
   "metadata": {
    "collapsed": false,
    "pycharm": {
     "name": "#%%\n"
    }
   }
  },
  {
   "cell_type": "code",
   "execution_count": 58,
   "outputs": [
    {
     "data": {
      "text/plain": "count    50000.000000\nmean         0.193896\nstd          0.161637\nmin          0.009670\n25%          0.096900\n50%          0.126000\n75%          0.244000\nmax          1.000000\nName: liveness, dtype: float64"
     },
     "execution_count": 58,
     "metadata": {},
     "output_type": "execute_result"
    }
   ],
   "source": [
    "data['liveness'].describe()"
   ],
   "metadata": {
    "collapsed": false,
    "pycharm": {
     "name": "#%%\n"
    }
   }
  },
  {
   "cell_type": "code",
   "execution_count": 59,
   "outputs": [
    {
     "data": {
      "text/plain": "count    50000.000000\nmean        -9.133761\nstd          6.162990\nmin        -47.046000\n25%        -10.860000\n50%         -7.276500\n75%         -5.173000\nmax          3.744000\nName: loudness, dtype: float64"
     },
     "execution_count": 59,
     "metadata": {},
     "output_type": "execute_result"
    }
   ],
   "source": [
    "data['loudness'].describe()"
   ],
   "metadata": {
    "collapsed": false,
    "pycharm": {
     "name": "#%%\n"
    }
   }
  },
  {
   "cell_type": "code",
   "execution_count": 60,
   "outputs": [
    {
     "data": {
      "text/plain": "count    50000.000000\nmean         0.093586\nstd          0.101373\nmin          0.022300\n25%          0.036100\n50%          0.048900\n75%          0.098525\nmax          0.942000\nName: speechiness, dtype: float64"
     },
     "execution_count": 60,
     "metadata": {},
     "output_type": "execute_result"
    }
   ],
   "source": [
    "data['speechiness'].describe()"
   ],
   "metadata": {
    "collapsed": false,
    "pycharm": {
     "name": "#%%\n"
    }
   }
  },
  {
   "cell_type": "code",
   "execution_count": 61,
   "outputs": [
    {
     "data": {
      "text/plain": "count     50000\nunique    29394\ntop           ?\nfreq       4980\nName: tempo, dtype: object"
     },
     "execution_count": 61,
     "metadata": {},
     "output_type": "execute_result"
    }
   ],
   "source": [
    "data['tempo'].describe()"
   ],
   "metadata": {
    "collapsed": false,
    "pycharm": {
     "name": "#%%\n"
    }
   }
  },
  {
   "cell_type": "code",
   "execution_count": 67,
   "outputs": [
    {
     "data": {
      "text/plain": "(4980, 18)"
     },
     "execution_count": 67,
     "metadata": {},
     "output_type": "execute_result"
    }
   ],
   "source": [
    "data[data['tempo'] == '?'].shape"
   ],
   "metadata": {
    "collapsed": false,
    "pycharm": {
     "name": "#%%\n"
    }
   }
  },
  {
   "cell_type": "code",
   "execution_count": 52,
   "outputs": [
    {
     "data": {
      "text/plain": "count     50000\nunique       12\ntop           G\nfreq       5727\nName: key, dtype: object"
     },
     "execution_count": 52,
     "metadata": {},
     "output_type": "execute_result"
    }
   ],
   "source": [
    "data['key'].describe()"
   ],
   "metadata": {
    "collapsed": false,
    "pycharm": {
     "name": "#%%\n"
    }
   }
  },
  {
   "cell_type": "code",
   "execution_count": 53,
   "outputs": [
    {
     "data": {
      "text/plain": "count     50000\nunique        2\ntop       Major\nfreq      32099\nName: mode, dtype: object"
     },
     "execution_count": 53,
     "metadata": {},
     "output_type": "execute_result"
    }
   ],
   "source": [
    "data['mode'].describe()"
   ],
   "metadata": {
    "collapsed": false,
    "pycharm": {
     "name": "#%%\n"
    }
   }
  },
  {
   "cell_type": "code",
   "execution_count": 56,
   "outputs": [
    {
     "data": {
      "text/plain": "array(['Minor', 'Major', nan], dtype=object)"
     },
     "execution_count": 56,
     "metadata": {},
     "output_type": "execute_result"
    }
   ],
   "source": [
    "data['mode'].unique()"
   ],
   "metadata": {
    "collapsed": false,
    "pycharm": {
     "name": "#%%\n"
    }
   }
  },
  {
   "cell_type": "code",
   "execution_count": 72,
   "outputs": [
    {
     "data": {
      "text/plain": "11"
     },
     "execution_count": 72,
     "metadata": {},
     "output_type": "execute_result"
    }
   ],
   "source": [
    "len(data['music_genre'].unique())"
   ],
   "metadata": {
    "collapsed": false,
    "pycharm": {
     "name": "#%%\n"
    }
   }
  },
  {
   "cell_type": "code",
   "execution_count": null,
   "outputs": [],
   "source": [],
   "metadata": {
    "collapsed": false,
    "pycharm": {
     "name": "#%%\n"
    }
   }
  }
 ],
 "metadata": {
  "kernelspec": {
   "display_name": "Python 3",
   "language": "python",
   "name": "python3"
  },
  "language_info": {
   "codemirror_mode": {
    "name": "ipython",
    "version": 2
   },
   "file_extension": ".py",
   "mimetype": "text/x-python",
   "name": "python",
   "nbconvert_exporter": "python",
   "pygments_lexer": "ipython2",
   "version": "2.7.6"
  }
 },
 "nbformat": 4,
 "nbformat_minor": 0
}